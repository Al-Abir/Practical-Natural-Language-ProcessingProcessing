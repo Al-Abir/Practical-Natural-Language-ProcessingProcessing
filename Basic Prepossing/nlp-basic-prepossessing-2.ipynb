{
 "cells": [
  {
   "cell_type": "code",
   "execution_count": 1,
   "id": "f7198150",
   "metadata": {
    "_cell_guid": "b1076dfc-b9ad-4769-8c92-a6c4dae69d19",
    "_uuid": "8f2839f25d086af736a60e9eeb907d3b93b6e0e5",
    "execution": {
     "iopub.execute_input": "2024-01-18T09:48:54.587663Z",
     "iopub.status.busy": "2024-01-18T09:48:54.587273Z",
     "iopub.status.idle": "2024-01-18T09:48:55.857320Z",
     "shell.execute_reply": "2024-01-18T09:48:55.855966Z"
    },
    "papermill": {
     "duration": 1.283648,
     "end_time": "2024-01-18T09:48:55.861719",
     "exception": false,
     "start_time": "2024-01-18T09:48:54.578071",
     "status": "completed"
    },
    "tags": []
   },
   "outputs": [],
   "source": [
    "# This Python 3 environment comes with many helpful analytics libraries installed\n",
    "# It is defined by the kaggle/python Docker image: https://github.com/kaggle/docker-python\n",
    "# For example, here's several helpful packages to load\n",
    "\n",
    "import numpy as np # linear algebra\n",
    "import pandas as pd # data processing, CSV file I/O (e.g. pd.read_csv)\n",
    "\n",
    "# Input data files are available in the read-only \"../input/\" directory\n",
    "# For example, running this (by clicking run or pressing Shift+Enter) will list all files under the input directory\n",
    "\n",
    "import os\n",
    "for dirname, _, filenames in os.walk('/kaggle/input'):\n",
    "    for filename in filenames:\n",
    "        print(os.path.join(dirname, filename))\n",
    "\n",
    "# You can write up to 20GB to the current directory (/kaggle/working/) that gets preserved as output when you create a version using \"Save & Run All\" \n",
    "# You can also write temporary files to /kaggle/temp/, but they won't be saved outside of the current session"
   ]
  },
  {
   "cell_type": "markdown",
   "id": "38042ca9",
   "metadata": {
    "papermill": {
     "duration": 0.008115,
     "end_time": "2024-01-18T09:48:55.878182",
     "exception": false,
     "start_time": "2024-01-18T09:48:55.870067",
     "status": "completed"
    },
    "tags": []
   },
   "source": [
    "# ***Spell-Checker***"
   ]
  },
  {
   "cell_type": "code",
   "execution_count": 2,
   "id": "2d42b50f",
   "metadata": {
    "execution": {
     "iopub.execute_input": "2024-01-18T09:48:55.897452Z",
     "iopub.status.busy": "2024-01-18T09:48:55.896819Z",
     "iopub.status.idle": "2024-01-18T09:49:12.305114Z",
     "shell.execute_reply": "2024-01-18T09:49:12.303468Z"
    },
    "papermill": {
     "duration": 16.422047,
     "end_time": "2024-01-18T09:49:12.308923",
     "exception": false,
     "start_time": "2024-01-18T09:48:55.886876",
     "status": "completed"
    },
    "tags": []
   },
   "outputs": [
    {
     "name": "stdout",
     "output_type": "stream",
     "text": [
      "Requirement already satisfied: textblob in /opt/conda/lib/python3.10/site-packages (0.17.1)\r\n",
      "Requirement already satisfied: nltk>=3.1 in /opt/conda/lib/python3.10/site-packages (from textblob) (3.2.4)\r\n",
      "Requirement already satisfied: six in /opt/conda/lib/python3.10/site-packages (from nltk>=3.1->textblob) (1.16.0)\r\n"
     ]
    }
   ],
   "source": [
    "!pip install textblob"
   ]
  },
  {
   "cell_type": "code",
   "execution_count": 3,
   "id": "f0844616",
   "metadata": {
    "execution": {
     "iopub.execute_input": "2024-01-18T09:49:12.329111Z",
     "iopub.status.busy": "2024-01-18T09:49:12.327663Z",
     "iopub.status.idle": "2024-01-18T09:49:14.665127Z",
     "shell.execute_reply": "2024-01-18T09:49:14.663587Z"
    },
    "papermill": {
     "duration": 2.351599,
     "end_time": "2024-01-18T09:49:14.668933",
     "exception": false,
     "start_time": "2024-01-18T09:49:12.317334",
     "status": "completed"
    },
    "tags": []
   },
   "outputs": [],
   "source": [
    "from textblob import TextBlob"
   ]
  },
  {
   "cell_type": "code",
   "execution_count": 4,
   "id": "8928709f",
   "metadata": {
    "execution": {
     "iopub.execute_input": "2024-01-18T09:49:14.687746Z",
     "iopub.status.busy": "2024-01-18T09:49:14.687301Z",
     "iopub.status.idle": "2024-01-18T09:49:14.784233Z",
     "shell.execute_reply": "2024-01-18T09:49:14.782742Z"
    },
    "papermill": {
     "duration": 0.109757,
     "end_time": "2024-01-18T09:49:14.787043",
     "exception": false,
     "start_time": "2024-01-18T09:49:14.677286",
     "status": "completed"
    },
    "tags": []
   },
   "outputs": [
    {
     "data": {
      "text/plain": [
       "'i am play football'"
      ]
     },
     "execution_count": 4,
     "metadata": {},
     "output_type": "execute_result"
    }
   ],
   "source": [
    "incorrect_text = 'i am play fotball'\n",
    "tb= TextBlob(incorrect_text)\n",
    "tb. correct().string"
   ]
  },
  {
   "cell_type": "markdown",
   "id": "64645bea",
   "metadata": {
    "papermill": {
     "duration": 0.007199,
     "end_time": "2024-01-18T09:49:14.802382",
     "exception": false,
     "start_time": "2024-01-18T09:49:14.795183",
     "status": "completed"
    },
    "tags": []
   },
   "source": [
    "# ***stop word***"
   ]
  },
  {
   "cell_type": "code",
   "execution_count": 5,
   "id": "3f808be6",
   "metadata": {
    "execution": {
     "iopub.execute_input": "2024-01-18T09:49:14.819239Z",
     "iopub.status.busy": "2024-01-18T09:49:14.818828Z",
     "iopub.status.idle": "2024-01-18T09:49:14.825476Z",
     "shell.execute_reply": "2024-01-18T09:49:14.823747Z"
    },
    "papermill": {
     "duration": 0.018509,
     "end_time": "2024-01-18T09:49:14.828374",
     "exception": false,
     "start_time": "2024-01-18T09:49:14.809865",
     "status": "completed"
    },
    "tags": []
   },
   "outputs": [],
   "source": [
    "from nltk.corpus import stopwords\n"
   ]
  },
  {
   "cell_type": "code",
   "execution_count": 6,
   "id": "6631352f",
   "metadata": {
    "execution": {
     "iopub.execute_input": "2024-01-18T09:49:14.845455Z",
     "iopub.status.busy": "2024-01-18T09:49:14.845021Z",
     "iopub.status.idle": "2024-01-18T09:49:29.477374Z",
     "shell.execute_reply": "2024-01-18T09:49:29.475649Z"
    },
    "papermill": {
     "duration": 14.64498,
     "end_time": "2024-01-18T09:49:29.480993",
     "exception": false,
     "start_time": "2024-01-18T09:49:14.836013",
     "status": "completed"
    },
    "tags": []
   },
   "outputs": [
    {
     "name": "stdout",
     "output_type": "stream",
     "text": [
      "Requirement already satisfied: nltk in /opt/conda/lib/python3.10/site-packages (3.2.4)\r\n",
      "Requirement already satisfied: six in /opt/conda/lib/python3.10/site-packages (from nltk) (1.16.0)\r\n"
     ]
    }
   ],
   "source": [
    "!pip install nltk"
   ]
  },
  {
   "cell_type": "code",
   "execution_count": 7,
   "id": "bb83e650",
   "metadata": {
    "execution": {
     "iopub.execute_input": "2024-01-18T09:49:29.501756Z",
     "iopub.status.busy": "2024-01-18T09:49:29.500120Z",
     "iopub.status.idle": "2024-01-18T09:49:29.514936Z",
     "shell.execute_reply": "2024-01-18T09:49:29.513497Z"
    },
    "papermill": {
     "duration": 0.028643,
     "end_time": "2024-01-18T09:49:29.518452",
     "exception": false,
     "start_time": "2024-01-18T09:49:29.489809",
     "status": "completed"
    },
    "tags": []
   },
   "outputs": [],
   "source": [
    "english_stopwords = stopwords.words('english')"
   ]
  },
  {
   "cell_type": "code",
   "execution_count": 8,
   "id": "4e3de250",
   "metadata": {
    "execution": {
     "iopub.execute_input": "2024-01-18T09:49:29.538145Z",
     "iopub.status.busy": "2024-01-18T09:49:29.537735Z",
     "iopub.status.idle": "2024-01-18T09:49:29.543831Z",
     "shell.execute_reply": "2024-01-18T09:49:29.542496Z"
    },
    "papermill": {
     "duration": 0.019512,
     "end_time": "2024-01-18T09:49:29.547121",
     "exception": false,
     "start_time": "2024-01-18T09:49:29.527609",
     "status": "completed"
    },
    "tags": []
   },
   "outputs": [
    {
     "name": "stdout",
     "output_type": "stream",
     "text": [
      "['i', 'me', 'my', 'myself', 'we', 'our', 'ours', 'ourselves', 'you', \"you're\", \"you've\", \"you'll\", \"you'd\", 'your', 'yours', 'yourself', 'yourselves', 'he', 'him', 'his', 'himself', 'she', \"she's\", 'her', 'hers', 'herself', 'it', \"it's\", 'its', 'itself', 'they', 'them', 'their', 'theirs', 'themselves', 'what', 'which', 'who', 'whom', 'this', 'that', \"that'll\", 'these', 'those', 'am', 'is', 'are', 'was', 'were', 'be', 'been', 'being', 'have', 'has', 'had', 'having', 'do', 'does', 'did', 'doing', 'a', 'an', 'the', 'and', 'but', 'if', 'or', 'because', 'as', 'until', 'while', 'of', 'at', 'by', 'for', 'with', 'about', 'against', 'between', 'into', 'through', 'during', 'before', 'after', 'above', 'below', 'to', 'from', 'up', 'down', 'in', 'out', 'on', 'off', 'over', 'under', 'again', 'further', 'then', 'once', 'here', 'there', 'when', 'where', 'why', 'how', 'all', 'any', 'both', 'each', 'few', 'more', 'most', 'other', 'some', 'such', 'no', 'nor', 'not', 'only', 'own', 'same', 'so', 'than', 'too', 'very', 's', 't', 'can', 'will', 'just', 'don', \"don't\", 'should', \"should've\", 'now', 'd', 'll', 'm', 'o', 're', 've', 'y', 'ain', 'aren', \"aren't\", 'couldn', \"couldn't\", 'didn', \"didn't\", 'doesn', \"doesn't\", 'hadn', \"hadn't\", 'hasn', \"hasn't\", 'haven', \"haven't\", 'isn', \"isn't\", 'ma', 'mightn', \"mightn't\", 'mustn', \"mustn't\", 'needn', \"needn't\", 'shan', \"shan't\", 'shouldn', \"shouldn't\", 'wasn', \"wasn't\", 'weren', \"weren't\", 'won', \"won't\", 'wouldn', \"wouldn't\"]\n"
     ]
    }
   ],
   "source": [
    "print(english_stopwords)"
   ]
  },
  {
   "cell_type": "code",
   "execution_count": 9,
   "id": "c72994ac",
   "metadata": {
    "execution": {
     "iopub.execute_input": "2024-01-18T09:49:29.565495Z",
     "iopub.status.busy": "2024-01-18T09:49:29.565091Z",
     "iopub.status.idle": "2024-01-18T09:49:29.572440Z",
     "shell.execute_reply": "2024-01-18T09:49:29.570902Z"
    },
    "papermill": {
     "duration": 0.019753,
     "end_time": "2024-01-18T09:49:29.575101",
     "exception": false,
     "start_time": "2024-01-18T09:49:29.555348",
     "status": "completed"
    },
    "tags": []
   },
   "outputs": [],
   "source": [
    "def remove_stopwords(text):\n",
    "    stop_words = set(stopwords.words('english'))\n",
    "    new_text = []\n",
    "    \n",
    "    for word in text.split():\n",
    "        if word.lower() not in stop_words:\n",
    "            new_text.append(word)\n",
    "    \n",
    "    return \" \".join(new_text)\n",
    "        \n",
    "    \n",
    "    "
   ]
  },
  {
   "cell_type": "code",
   "execution_count": 10,
   "id": "f8817b55",
   "metadata": {
    "execution": {
     "iopub.execute_input": "2024-01-18T09:49:29.595576Z",
     "iopub.status.busy": "2024-01-18T09:49:29.595167Z",
     "iopub.status.idle": "2024-01-18T09:49:29.603314Z",
     "shell.execute_reply": "2024-01-18T09:49:29.602007Z"
    },
    "papermill": {
     "duration": 0.0216,
     "end_time": "2024-01-18T09:49:29.605944",
     "exception": false,
     "start_time": "2024-01-18T09:49:29.584344",
     "status": "completed"
    },
    "tags": []
   },
   "outputs": [
    {
     "data": {
      "text/plain": [
       "'name abir'"
      ]
     },
     "execution_count": 10,
     "metadata": {},
     "output_type": "execute_result"
    }
   ],
   "source": [
    "remove_stopwords('my name is abir')"
   ]
  },
  {
   "cell_type": "markdown",
   "id": "c5eb85cc",
   "metadata": {
    "papermill": {
     "duration": 0.008198,
     "end_time": "2024-01-18T09:49:29.622808",
     "exception": false,
     "start_time": "2024-01-18T09:49:29.614610",
     "status": "completed"
    },
    "tags": []
   },
   "source": [
    "# ***Handling Emoji***"
   ]
  },
  {
   "cell_type": "code",
   "execution_count": 11,
   "id": "db29f2ac",
   "metadata": {
    "execution": {
     "iopub.execute_input": "2024-01-18T09:49:29.642073Z",
     "iopub.status.busy": "2024-01-18T09:49:29.641687Z",
     "iopub.status.idle": "2024-01-18T09:49:29.654248Z",
     "shell.execute_reply": "2024-01-18T09:49:29.653179Z"
    },
    "papermill": {
     "duration": 0.026003,
     "end_time": "2024-01-18T09:49:29.657224",
     "exception": false,
     "start_time": "2024-01-18T09:49:29.631221",
     "status": "completed"
    },
    "tags": []
   },
   "outputs": [
    {
     "name": "stdout",
     "output_type": "stream",
     "text": [
      "Hello!  How are you today? \n"
     ]
    }
   ],
   "source": [
    "import re\n",
    "\n",
    "def remove_emoji(text):\n",
    "    emoji_pattern = re.compile(\"[\"\n",
    "                               u\"\\U0001F600-\\U0001F64F\"  # Emoticons\n",
    "                               u\"\\U0001F300-\\U0001F5FF\"  # Symbols & Pictographs\n",
    "                               u\"\\U0001F680-\\U0001F6FF\"  # Transport & Map Symbols\n",
    "                               u\"\\U0001F1E0-\\U0001F1FF\"  # Flags (iOS)\n",
    "                               u\"\\U00012700-\\U0001270F\"  # Miscellaneous Symbols\n",
    "                               u\"\\U0001F004-\\U0001F0CF\"  # Additional Miscellaneous Symbols\n",
    "                               u\"\\U000024C2-\\U0001F251\"  # Enclosed Characters\n",
    "                               \"]+\", flags=re.UNICODE)\n",
    "    return emoji_pattern.sub(r'', text)\n",
    "\n",
    "# Example usage\n",
    "text_with_emojis = \"Hello! 😊 How are you today? 🚀\"\n",
    "result = remove_emoji(text_with_emojis)\n",
    "print(result)\n"
   ]
  },
  {
   "cell_type": "markdown",
   "id": "691a654d",
   "metadata": {
    "papermill": {
     "duration": 0.008629,
     "end_time": "2024-01-18T09:49:29.674791",
     "exception": false,
     "start_time": "2024-01-18T09:49:29.666162",
     "status": "completed"
    },
    "tags": []
   },
   "source": [
    "# ***Tokenization***"
   ]
  },
  {
   "cell_type": "code",
   "execution_count": 12,
   "id": "30b260e9",
   "metadata": {
    "execution": {
     "iopub.execute_input": "2024-01-18T09:49:29.693773Z",
     "iopub.status.busy": "2024-01-18T09:49:29.693323Z",
     "iopub.status.idle": "2024-01-18T09:49:29.877308Z",
     "shell.execute_reply": "2024-01-18T09:49:29.876357Z"
    },
    "papermill": {
     "duration": 0.197001,
     "end_time": "2024-01-18T09:49:29.880296",
     "exception": false,
     "start_time": "2024-01-18T09:49:29.683295",
     "status": "completed"
    },
    "tags": []
   },
   "outputs": [
    {
     "name": "stdout",
     "output_type": "stream",
     "text": [
      "[nltk_data] Downloading package punkt to /usr/share/nltk_data...\n",
      "[nltk_data]   Package punkt is already up-to-date!\n",
      "['This', 'is', 'an', 'example', 'sentence', 'for', 'word', 'tokenization', '.', '!']\n"
     ]
    }
   ],
   "source": [
    "import nltk\n",
    "from nltk.tokenize import word_tokenize,sent_tokenize\n",
    "\n",
    "nltk.download('punkt')  # Download the punkt tokenizer data (needed for word_tokenize)\n",
    "\n",
    "def tokenize_text(text):\n",
    "    tokens = word_tokenize(text)\n",
    "    return tokens\n",
    "\n",
    "# Example usage\n",
    "text = \"This is an example sentence for word tokenization.!\"\n",
    "tokens = tokenize_text(text)\n",
    "print(tokens)\n"
   ]
  },
  {
   "cell_type": "markdown",
   "id": "edef58d0",
   "metadata": {
    "papermill": {
     "duration": 0.008368,
     "end_time": "2024-01-18T09:49:29.898079",
     "exception": false,
     "start_time": "2024-01-18T09:49:29.889711",
     "status": "completed"
    },
    "tags": []
   },
   "source": [
    "# ***Stemming***"
   ]
  },
  {
   "cell_type": "code",
   "execution_count": 13,
   "id": "45cf9df7",
   "metadata": {
    "execution": {
     "iopub.execute_input": "2024-01-18T09:49:29.919084Z",
     "iopub.status.busy": "2024-01-18T09:49:29.918063Z",
     "iopub.status.idle": "2024-01-18T09:49:29.924176Z",
     "shell.execute_reply": "2024-01-18T09:49:29.922748Z"
    },
    "papermill": {
     "duration": 0.020112,
     "end_time": "2024-01-18T09:49:29.926997",
     "exception": false,
     "start_time": "2024-01-18T09:49:29.906885",
     "status": "completed"
    },
    "tags": []
   },
   "outputs": [],
   "source": [
    "from nltk.stem.porter import PorterStemmer\n"
   ]
  },
  {
   "cell_type": "code",
   "execution_count": 14,
   "id": "47f84153",
   "metadata": {
    "execution": {
     "iopub.execute_input": "2024-01-18T09:49:29.947308Z",
     "iopub.status.busy": "2024-01-18T09:49:29.946268Z",
     "iopub.status.idle": "2024-01-18T09:49:29.953584Z",
     "shell.execute_reply": "2024-01-18T09:49:29.952535Z"
    },
    "papermill": {
     "duration": 0.020774,
     "end_time": "2024-01-18T09:49:29.956616",
     "exception": false,
     "start_time": "2024-01-18T09:49:29.935842",
     "status": "completed"
    },
    "tags": []
   },
   "outputs": [],
   "source": [
    "ps = PorterStemmer()\n",
    "def stem_words(text):\n",
    "    return \" \".join([ps.stem(word) for word in text.split()])"
   ]
  },
  {
   "cell_type": "code",
   "execution_count": 15,
   "id": "73b7f9f5",
   "metadata": {
    "execution": {
     "iopub.execute_input": "2024-01-18T09:49:29.977787Z",
     "iopub.status.busy": "2024-01-18T09:49:29.976962Z",
     "iopub.status.idle": "2024-01-18T09:49:29.984711Z",
     "shell.execute_reply": "2024-01-18T09:49:29.983572Z"
    },
    "papermill": {
     "duration": 0.021914,
     "end_time": "2024-01-18T09:49:29.987393",
     "exception": false,
     "start_time": "2024-01-18T09:49:29.965479",
     "status": "completed"
    },
    "tags": []
   },
   "outputs": [
    {
     "data": {
      "text/plain": [
       "'walk wak wake walk'"
      ]
     },
     "execution_count": 15,
     "metadata": {},
     "output_type": "execute_result"
    }
   ],
   "source": [
    "sample = \"walk waks waking walked \"\n",
    "stem_words(sample)"
   ]
  },
  {
   "cell_type": "markdown",
   "id": "f2c42519",
   "metadata": {
    "papermill": {
     "duration": 0.008548,
     "end_time": "2024-01-18T09:49:30.004390",
     "exception": false,
     "start_time": "2024-01-18T09:49:29.995842",
     "status": "completed"
    },
    "tags": []
   },
   "source": [
    "# ***Lematization***"
   ]
  },
  {
   "cell_type": "code",
   "execution_count": null,
   "id": "0a276ffb",
   "metadata": {
    "papermill": {
     "duration": 0.007994,
     "end_time": "2024-01-18T09:49:30.021038",
     "exception": false,
     "start_time": "2024-01-18T09:49:30.013044",
     "status": "completed"
    },
    "tags": []
   },
   "outputs": [],
   "source": []
  }
 ],
 "metadata": {
  "kaggle": {
   "accelerator": "none",
   "dataSources": [],
   "dockerImageVersionId": 30626,
   "isGpuEnabled": false,
   "isInternetEnabled": true,
   "language": "python",
   "sourceType": "notebook"
  },
  "kernelspec": {
   "display_name": "Python 3",
   "language": "python",
   "name": "python3"
  },
  "language_info": {
   "codemirror_mode": {
    "name": "ipython",
    "version": 3
   },
   "file_extension": ".py",
   "mimetype": "text/x-python",
   "name": "python",
   "nbconvert_exporter": "python",
   "pygments_lexer": "ipython3",
   "version": "3.10.12"
  },
  "papermill": {
   "default_parameters": {},
   "duration": 40.638838,
   "end_time": "2024-01-18T09:49:30.855753",
   "environment_variables": {},
   "exception": null,
   "input_path": "__notebook__.ipynb",
   "output_path": "__notebook__.ipynb",
   "parameters": {},
   "start_time": "2024-01-18T09:48:50.216915",
   "version": "2.4.0"
  }
 },
 "nbformat": 4,
 "nbformat_minor": 5
}
