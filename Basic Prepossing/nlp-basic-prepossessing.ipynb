{
 "cells": [
  {
   "cell_type": "code",
   "execution_count": 1,
   "id": "43bf74d4",
   "metadata": {
    "_cell_guid": "b1076dfc-b9ad-4769-8c92-a6c4dae69d19",
    "_uuid": "8f2839f25d086af736a60e9eeb907d3b93b6e0e5",
    "execution": {
     "iopub.execute_input": "2024-01-17T10:19:16.067454Z",
     "iopub.status.busy": "2024-01-17T10:19:16.066786Z",
     "iopub.status.idle": "2024-01-17T10:19:17.141133Z",
     "shell.execute_reply": "2024-01-17T10:19:17.139823Z"
    },
    "papermill": {
     "duration": 1.088174,
     "end_time": "2024-01-17T10:19:17.144320",
     "exception": false,
     "start_time": "2024-01-17T10:19:16.056146",
     "status": "completed"
    },
    "tags": []
   },
   "outputs": [
    {
     "name": "stdout",
     "output_type": "stream",
     "text": [
      "/kaggle/input/sort-from/slang.txt\n",
      "/kaggle/input/imdb-dataset-of-50k-movie-reviews/IMDB Dataset.csv\n"
     ]
    }
   ],
   "source": [
    "# This Python 3 environment comes with many helpful analytics libraries installed\n",
    "# It is defined by the kaggle/python Docker image: https://github.com/kaggle/docker-python\n",
    "# For example, here's several helpful packages to load\n",
    "\n",
    "import numpy as np # linear algebra\n",
    "import pandas as pd # data processing, CSV file I/O (e.g. pd.read_csv)\n",
    "\n",
    "# Input data files are available in the read-only \"../input/\" directory\n",
    "# For example, running this (by clicking run or pressing Shift+Enter) will list all files under the input directory\n",
    "\n",
    "import os\n",
    "for dirname, _, filenames in os.walk('/kaggle/input'):\n",
    "    for filename in filenames:\n",
    "        print(os.path.join(dirname, filename))\n",
    "\n",
    "# You can write up to 20GB to the current directory (/kaggle/working/) that gets preserved as output when you create a version using \"Save & Run All\" \n",
    "# You can also write temporary files to /kaggle/temp/, but they won't be saved outside of the current session"
   ]
  },
  {
   "cell_type": "code",
   "execution_count": 2,
   "id": "f51a72a4",
   "metadata": {
    "execution": {
     "iopub.execute_input": "2024-01-17T10:19:17.164622Z",
     "iopub.status.busy": "2024-01-17T10:19:17.164043Z",
     "iopub.status.idle": "2024-01-17T10:19:18.494018Z",
     "shell.execute_reply": "2024-01-17T10:19:18.492535Z"
    },
    "papermill": {
     "duration": 1.343187,
     "end_time": "2024-01-17T10:19:18.496984",
     "exception": false,
     "start_time": "2024-01-17T10:19:17.153797",
     "status": "completed"
    },
    "tags": []
   },
   "outputs": [],
   "source": [
    "df = pd.read_csv('/kaggle/input/imdb-dataset-of-50k-movie-reviews/IMDB Dataset.csv')"
   ]
  },
  {
   "cell_type": "code",
   "execution_count": 3,
   "id": "fe596c5a",
   "metadata": {
    "execution": {
     "iopub.execute_input": "2024-01-17T10:19:18.516349Z",
     "iopub.status.busy": "2024-01-17T10:19:18.515851Z",
     "iopub.status.idle": "2024-01-17T10:19:18.541982Z",
     "shell.execute_reply": "2024-01-17T10:19:18.540387Z"
    },
    "papermill": {
     "duration": 0.038638,
     "end_time": "2024-01-17T10:19:18.544504",
     "exception": false,
     "start_time": "2024-01-17T10:19:18.505866",
     "status": "completed"
    },
    "tags": []
   },
   "outputs": [
    {
     "data": {
      "text/html": [
       "<div>\n",
       "<style scoped>\n",
       "    .dataframe tbody tr th:only-of-type {\n",
       "        vertical-align: middle;\n",
       "    }\n",
       "\n",
       "    .dataframe tbody tr th {\n",
       "        vertical-align: top;\n",
       "    }\n",
       "\n",
       "    .dataframe thead th {\n",
       "        text-align: right;\n",
       "    }\n",
       "</style>\n",
       "<table border=\"1\" class=\"dataframe\">\n",
       "  <thead>\n",
       "    <tr style=\"text-align: right;\">\n",
       "      <th></th>\n",
       "      <th>review</th>\n",
       "      <th>sentiment</th>\n",
       "    </tr>\n",
       "  </thead>\n",
       "  <tbody>\n",
       "    <tr>\n",
       "      <th>0</th>\n",
       "      <td>One of the other reviewers has mentioned that ...</td>\n",
       "      <td>positive</td>\n",
       "    </tr>\n",
       "    <tr>\n",
       "      <th>1</th>\n",
       "      <td>A wonderful little production. &lt;br /&gt;&lt;br /&gt;The...</td>\n",
       "      <td>positive</td>\n",
       "    </tr>\n",
       "    <tr>\n",
       "      <th>2</th>\n",
       "      <td>I thought this was a wonderful way to spend ti...</td>\n",
       "      <td>positive</td>\n",
       "    </tr>\n",
       "    <tr>\n",
       "      <th>3</th>\n",
       "      <td>Basically there's a family where a little boy ...</td>\n",
       "      <td>negative</td>\n",
       "    </tr>\n",
       "    <tr>\n",
       "      <th>4</th>\n",
       "      <td>Petter Mattei's \"Love in the Time of Money\" is...</td>\n",
       "      <td>positive</td>\n",
       "    </tr>\n",
       "  </tbody>\n",
       "</table>\n",
       "</div>"
      ],
      "text/plain": [
       "                                              review sentiment\n",
       "0  One of the other reviewers has mentioned that ...  positive\n",
       "1  A wonderful little production. <br /><br />The...  positive\n",
       "2  I thought this was a wonderful way to spend ti...  positive\n",
       "3  Basically there's a family where a little boy ...  negative\n",
       "4  Petter Mattei's \"Love in the Time of Money\" is...  positive"
      ]
     },
     "execution_count": 3,
     "metadata": {},
     "output_type": "execute_result"
    }
   ],
   "source": [
    "df.head()"
   ]
  },
  {
   "cell_type": "markdown",
   "id": "f447f808",
   "metadata": {
    "papermill": {
     "duration": 0.009792,
     "end_time": "2024-01-17T10:19:18.563045",
     "exception": false,
     "start_time": "2024-01-17T10:19:18.553253",
     "status": "completed"
    },
    "tags": []
   },
   "source": [
    "# ***Lowercasing***"
   ]
  },
  {
   "cell_type": "code",
   "execution_count": 4,
   "id": "d6d2eb00",
   "metadata": {
    "execution": {
     "iopub.execute_input": "2024-01-17T10:19:18.585350Z",
     "iopub.status.busy": "2024-01-17T10:19:18.584940Z",
     "iopub.status.idle": "2024-01-17T10:19:18.742585Z",
     "shell.execute_reply": "2024-01-17T10:19:18.740810Z"
    },
    "papermill": {
     "duration": 0.172934,
     "end_time": "2024-01-17T10:19:18.745593",
     "exception": false,
     "start_time": "2024-01-17T10:19:18.572659",
     "status": "completed"
    },
    "tags": []
   },
   "outputs": [
    {
     "data": {
      "text/plain": [
       "0        one of the other reviewers has mentioned that ...\n",
       "1        a wonderful little production. <br /><br />the...\n",
       "2        i thought this was a wonderful way to spend ti...\n",
       "3        basically there's a family where a little boy ...\n",
       "4        petter mattei's \"love in the time of money\" is...\n",
       "                               ...                        \n",
       "49995    i thought this movie did a down right good job...\n",
       "49996    bad plot, bad dialogue, bad acting, idiotic di...\n",
       "49997    i am a catholic taught in parochial elementary...\n",
       "49998    i'm going to have to disagree with the previou...\n",
       "49999    no one expects the star trek movies to be high...\n",
       "Name: review, Length: 50000, dtype: object"
      ]
     },
     "execution_count": 4,
     "metadata": {},
     "output_type": "execute_result"
    }
   ],
   "source": [
    "df['review'].str.lower()"
   ]
  },
  {
   "cell_type": "markdown",
   "id": "cf20f2af",
   "metadata": {
    "papermill": {
     "duration": 0.013412,
     "end_time": "2024-01-17T10:19:18.770949",
     "exception": false,
     "start_time": "2024-01-17T10:19:18.757537",
     "status": "completed"
    },
    "tags": []
   },
   "source": [
    "# ***Remove HTML Tags***"
   ]
  },
  {
   "cell_type": "code",
   "execution_count": 5,
   "id": "ef5b0afa",
   "metadata": {
    "execution": {
     "iopub.execute_input": "2024-01-17T10:19:18.790239Z",
     "iopub.status.busy": "2024-01-17T10:19:18.789813Z",
     "iopub.status.idle": "2024-01-17T10:19:18.796439Z",
     "shell.execute_reply": "2024-01-17T10:19:18.795139Z"
    },
    "papermill": {
     "duration": 0.019045,
     "end_time": "2024-01-17T10:19:18.798673",
     "exception": false,
     "start_time": "2024-01-17T10:19:18.779628",
     "status": "completed"
    },
    "tags": []
   },
   "outputs": [],
   "source": [
    "import re\n",
    "def remove_html_tags(text):\n",
    "    pattern = re.compile('<.*?>')\n",
    "    return pattern.sub(r'',text)"
   ]
  },
  {
   "cell_type": "code",
   "execution_count": 6,
   "id": "1546bad2",
   "metadata": {
    "execution": {
     "iopub.execute_input": "2024-01-17T10:19:18.819188Z",
     "iopub.status.busy": "2024-01-17T10:19:18.818769Z",
     "iopub.status.idle": "2024-01-17T10:19:18.971451Z",
     "shell.execute_reply": "2024-01-17T10:19:18.969919Z"
    },
    "papermill": {
     "duration": 0.165985,
     "end_time": "2024-01-17T10:19:18.973892",
     "exception": false,
     "start_time": "2024-01-17T10:19:18.807907",
     "status": "completed"
    },
    "tags": []
   },
   "outputs": [],
   "source": [
    "df['review']= df['review'].apply(remove_html_tags)"
   ]
  },
  {
   "cell_type": "code",
   "execution_count": 7,
   "id": "7be9a849",
   "metadata": {
    "execution": {
     "iopub.execute_input": "2024-01-17T10:19:18.993494Z",
     "iopub.status.busy": "2024-01-17T10:19:18.993112Z",
     "iopub.status.idle": "2024-01-17T10:19:19.002215Z",
     "shell.execute_reply": "2024-01-17T10:19:19.000499Z"
    },
    "papermill": {
     "duration": 0.021803,
     "end_time": "2024-01-17T10:19:19.004703",
     "exception": false,
     "start_time": "2024-01-17T10:19:18.982900",
     "status": "completed"
    },
    "tags": []
   },
   "outputs": [
    {
     "data": {
      "text/plain": [
       "0        One of the other reviewers has mentioned that ...\n",
       "1        A wonderful little production. The filming tec...\n",
       "2        I thought this was a wonderful way to spend ti...\n",
       "3        Basically there's a family where a little boy ...\n",
       "4        Petter Mattei's \"Love in the Time of Money\" is...\n",
       "                               ...                        \n",
       "49995    I thought this movie did a down right good job...\n",
       "49996    Bad plot, bad dialogue, bad acting, idiotic di...\n",
       "49997    I am a Catholic taught in parochial elementary...\n",
       "49998    I'm going to have to disagree with the previou...\n",
       "49999    No one expects the Star Trek movies to be high...\n",
       "Name: review, Length: 50000, dtype: object"
      ]
     },
     "execution_count": 7,
     "metadata": {},
     "output_type": "execute_result"
    }
   ],
   "source": [
    "df['review']"
   ]
  },
  {
   "cell_type": "markdown",
   "id": "1ef686c5",
   "metadata": {
    "papermill": {
     "duration": 0.009021,
     "end_time": "2024-01-17T10:19:19.022603",
     "exception": false,
     "start_time": "2024-01-17T10:19:19.013582",
     "status": "completed"
    },
    "tags": []
   },
   "source": [
    "# ***Remove URls***"
   ]
  },
  {
   "cell_type": "code",
   "execution_count": 8,
   "id": "e88b0f49",
   "metadata": {
    "execution": {
     "iopub.execute_input": "2024-01-17T10:19:19.042573Z",
     "iopub.status.busy": "2024-01-17T10:19:19.041205Z",
     "iopub.status.idle": "2024-01-17T10:19:19.047427Z",
     "shell.execute_reply": "2024-01-17T10:19:19.045922Z"
    },
    "papermill": {
     "duration": 0.018547,
     "end_time": "2024-01-17T10:19:19.049783",
     "exception": false,
     "start_time": "2024-01-17T10:19:19.031236",
     "status": "completed"
    },
    "tags": []
   },
   "outputs": [],
   "source": [
    "text1 = 'check the number https://www.google.com/search?q=url&oq=url&gs_lcrp=EgZjaHJvbWUyDwgAEEUYORiDARixAxiABDINCAEQABiDARixAxiABDINCAIQABiDARixAxiABDIKCAMQABixAxiABDIHCAQQABiABDIGCAUQRRg8MgYIBhBFGDwyBggHEEUYPNIBCDI1MTdqMGo3qAIAsAIA&sourceid=chrome&ie=UTF-8'"
   ]
  },
  {
   "cell_type": "code",
   "execution_count": 9,
   "id": "330e1a4a",
   "metadata": {
    "execution": {
     "iopub.execute_input": "2024-01-17T10:19:19.070618Z",
     "iopub.status.busy": "2024-01-17T10:19:19.069634Z",
     "iopub.status.idle": "2024-01-17T10:19:19.076053Z",
     "shell.execute_reply": "2024-01-17T10:19:19.074650Z"
    },
    "papermill": {
     "duration": 0.020039,
     "end_time": "2024-01-17T10:19:19.078872",
     "exception": false,
     "start_time": "2024-01-17T10:19:19.058833",
     "status": "completed"
    },
    "tags": []
   },
   "outputs": [],
   "source": [
    "import re\n",
    "def remove_url(text):\n",
    "    pattern = re.compile(r'(https|http)?:\\/\\/(\\w|\\.|\\/|\\?|\\=|\\&|\\%)*\\b')\n",
    "    return pattern.sub(r'',text)\n"
   ]
  },
  {
   "cell_type": "code",
   "execution_count": 10,
   "id": "9d08a600",
   "metadata": {
    "execution": {
     "iopub.execute_input": "2024-01-17T10:19:19.100175Z",
     "iopub.status.busy": "2024-01-17T10:19:19.098844Z",
     "iopub.status.idle": "2024-01-17T10:19:23.092581Z",
     "shell.execute_reply": "2024-01-17T10:19:23.091583Z"
    },
    "papermill": {
     "duration": 4.007261,
     "end_time": "2024-01-17T10:19:23.095154",
     "exception": false,
     "start_time": "2024-01-17T10:19:19.087893",
     "status": "completed"
    },
    "tags": []
   },
   "outputs": [],
   "source": [
    "df['review'] = df['review'].apply(remove_url)\n"
   ]
  },
  {
   "cell_type": "markdown",
   "id": "edb73e92",
   "metadata": {
    "papermill": {
     "duration": 0.010165,
     "end_time": "2024-01-17T10:19:23.114944",
     "exception": false,
     "start_time": "2024-01-17T10:19:23.104779",
     "status": "completed"
    },
    "tags": []
   },
   "source": [
    "# ***Remove Punctuation Characters***"
   ]
  },
  {
   "cell_type": "code",
   "execution_count": 11,
   "id": "ddd51820",
   "metadata": {
    "execution": {
     "iopub.execute_input": "2024-01-17T10:19:23.135089Z",
     "iopub.status.busy": "2024-01-17T10:19:23.134713Z",
     "iopub.status.idle": "2024-01-17T10:19:23.142114Z",
     "shell.execute_reply": "2024-01-17T10:19:23.140567Z"
    },
    "papermill": {
     "duration": 0.020011,
     "end_time": "2024-01-17T10:19:23.144143",
     "exception": false,
     "start_time": "2024-01-17T10:19:23.124132",
     "status": "completed"
    },
    "tags": []
   },
   "outputs": [
    {
     "data": {
      "text/plain": [
       "'!\"#$%&\\'()*+,-./:;<=>?@[\\\\]^_`{|}~'"
      ]
     },
     "execution_count": 11,
     "metadata": {},
     "output_type": "execute_result"
    }
   ],
   "source": [
    "import string,time\n",
    "string.punctuation\n"
   ]
  },
  {
   "cell_type": "code",
   "execution_count": 12,
   "id": "578592b0",
   "metadata": {
    "execution": {
     "iopub.execute_input": "2024-01-17T10:19:23.164057Z",
     "iopub.status.busy": "2024-01-17T10:19:23.163668Z",
     "iopub.status.idle": "2024-01-17T10:19:23.168627Z",
     "shell.execute_reply": "2024-01-17T10:19:23.166909Z"
    },
    "papermill": {
     "duration": 0.018132,
     "end_time": "2024-01-17T10:19:23.171476",
     "exception": false,
     "start_time": "2024-01-17T10:19:23.153344",
     "status": "completed"
    },
    "tags": []
   },
   "outputs": [],
   "source": [
    "exclude = string.punctuation\n"
   ]
  },
  {
   "cell_type": "markdown",
   "id": "859db7a3",
   "metadata": {
    "papermill": {
     "duration": 0.008719,
     "end_time": "2024-01-17T10:19:23.189238",
     "exception": false,
     "start_time": "2024-01-17T10:19:23.180519",
     "status": "completed"
    },
    "tags": []
   },
   "source": [
    "***slow***"
   ]
  },
  {
   "cell_type": "code",
   "execution_count": 13,
   "id": "f5140c70",
   "metadata": {
    "execution": {
     "iopub.execute_input": "2024-01-17T10:19:23.209085Z",
     "iopub.status.busy": "2024-01-17T10:19:23.208714Z",
     "iopub.status.idle": "2024-01-17T10:19:23.214987Z",
     "shell.execute_reply": "2024-01-17T10:19:23.213305Z"
    },
    "papermill": {
     "duration": 0.019728,
     "end_time": "2024-01-17T10:19:23.217861",
     "exception": false,
     "start_time": "2024-01-17T10:19:23.198133",
     "status": "completed"
    },
    "tags": []
   },
   "outputs": [],
   "source": [
    "def remove_punc(text):\n",
    "    for char in exclude:\n",
    "        text = text.replace(char,'')\n",
    "    return text"
   ]
  },
  {
   "cell_type": "code",
   "execution_count": 14,
   "id": "3cc26d1e",
   "metadata": {
    "execution": {
     "iopub.execute_input": "2024-01-17T10:19:23.305509Z",
     "iopub.status.busy": "2024-01-17T10:19:23.305144Z",
     "iopub.status.idle": "2024-01-17T10:19:23.311124Z",
     "shell.execute_reply": "2024-01-17T10:19:23.309370Z"
    },
    "papermill": {
     "duration": 0.085793,
     "end_time": "2024-01-17T10:19:23.313418",
     "exception": false,
     "start_time": "2024-01-17T10:19:23.227625",
     "status": "completed"
    },
    "tags": []
   },
   "outputs": [],
   "source": [
    "text1 = 'string . hello, hi()'"
   ]
  },
  {
   "cell_type": "code",
   "execution_count": 15,
   "id": "4b16ff72",
   "metadata": {
    "execution": {
     "iopub.execute_input": "2024-01-17T10:19:23.335451Z",
     "iopub.status.busy": "2024-01-17T10:19:23.335069Z",
     "iopub.status.idle": "2024-01-17T10:19:23.343770Z",
     "shell.execute_reply": "2024-01-17T10:19:23.341891Z"
    },
    "papermill": {
     "duration": 0.0226,
     "end_time": "2024-01-17T10:19:23.346626",
     "exception": false,
     "start_time": "2024-01-17T10:19:23.324026",
     "status": "completed"
    },
    "tags": []
   },
   "outputs": [
    {
     "data": {
      "text/plain": [
       "'string  hello hi'"
      ]
     },
     "execution_count": 15,
     "metadata": {},
     "output_type": "execute_result"
    }
   ],
   "source": [
    "remove_punc(text1)"
   ]
  },
  {
   "cell_type": "code",
   "execution_count": 16,
   "id": "98006aae",
   "metadata": {
    "execution": {
     "iopub.execute_input": "2024-01-17T10:19:23.370702Z",
     "iopub.status.busy": "2024-01-17T10:19:23.370268Z",
     "iopub.status.idle": "2024-01-17T10:19:25.101589Z",
     "shell.execute_reply": "2024-01-17T10:19:25.099604Z"
    },
    "papermill": {
     "duration": 1.7469,
     "end_time": "2024-01-17T10:19:25.104372",
     "exception": false,
     "start_time": "2024-01-17T10:19:23.357472",
     "status": "completed"
    },
    "tags": []
   },
   "outputs": [],
   "source": [
    "df['review'] = df['review'].apply(remove_punc)"
   ]
  },
  {
   "cell_type": "code",
   "execution_count": 17,
   "id": "85ee3ee3",
   "metadata": {
    "execution": {
     "iopub.execute_input": "2024-01-17T10:19:25.126262Z",
     "iopub.status.busy": "2024-01-17T10:19:25.125870Z",
     "iopub.status.idle": "2024-01-17T10:19:25.372568Z",
     "shell.execute_reply": "2024-01-17T10:19:25.371544Z"
    },
    "papermill": {
     "duration": 0.260334,
     "end_time": "2024-01-17T10:19:25.374824",
     "exception": false,
     "start_time": "2024-01-17T10:19:25.114490",
     "status": "completed"
    },
    "tags": []
   },
   "outputs": [
    {
     "name": "stdout",
     "output_type": "stream",
     "text": [
      "0        One of the other reviewers has mentioned that ...\n",
      "1        A wonderful little production The filming tech...\n",
      "2        I thought this was a wonderful way to spend ti...\n",
      "3        Basically theres a family where a little boy J...\n",
      "4        Petter Matteis Love in the Time of Money is a ...\n",
      "                               ...                        \n",
      "49995    I thought this movie did a down right good job...\n",
      "49996    Bad plot bad dialogue bad acting idiotic direc...\n",
      "49997    I am a Catholic taught in parochial elementary...\n",
      "49998    Im going to have to disagree with the previous...\n",
      "49999    No one expects the Star Trek movies to be high...\n",
      "Name: review, Length: 50000, dtype: object\n",
      "12074.244022369385\n"
     ]
    }
   ],
   "source": [
    "start = time.time()\n",
    "print(remove_punc(df['review']))\n",
    "time1 = time.time()-start\n",
    "print(time1*50000)"
   ]
  },
  {
   "cell_type": "markdown",
   "id": "9770a73e",
   "metadata": {
    "papermill": {
     "duration": 0.009165,
     "end_time": "2024-01-17T10:19:25.393845",
     "exception": false,
     "start_time": "2024-01-17T10:19:25.384680",
     "status": "completed"
    },
    "tags": []
   },
   "source": [
    "***Faster***"
   ]
  },
  {
   "cell_type": "code",
   "execution_count": 18,
   "id": "937bd9e3",
   "metadata": {
    "execution": {
     "iopub.execute_input": "2024-01-17T10:19:25.414700Z",
     "iopub.status.busy": "2024-01-17T10:19:25.414287Z",
     "iopub.status.idle": "2024-01-17T10:19:25.420884Z",
     "shell.execute_reply": "2024-01-17T10:19:25.419075Z"
    },
    "papermill": {
     "duration": 0.020335,
     "end_time": "2024-01-17T10:19:25.423645",
     "exception": false,
     "start_time": "2024-01-17T10:19:25.403310",
     "status": "completed"
    },
    "tags": []
   },
   "outputs": [],
   "source": [
    "def remove_punc1(text):\n",
    "    return text.translate(str.maketrans('','', exclude))\n"
   ]
  },
  {
   "cell_type": "code",
   "execution_count": 19,
   "id": "625a4b98",
   "metadata": {
    "execution": {
     "iopub.execute_input": "2024-01-17T10:19:25.446533Z",
     "iopub.status.busy": "2024-01-17T10:19:25.445919Z",
     "iopub.status.idle": "2024-01-17T10:19:25.744846Z",
     "shell.execute_reply": "2024-01-17T10:19:25.743180Z"
    },
    "papermill": {
     "duration": 0.313498,
     "end_time": "2024-01-17T10:19:25.747820",
     "exception": false,
     "start_time": "2024-01-17T10:19:25.434322",
     "status": "completed"
    },
    "tags": []
   },
   "outputs": [
    {
     "name": "stdout",
     "output_type": "stream",
     "text": [
      "0        One of the other reviewers has mentioned that ...\n",
      "1        A wonderful little production The filming tech...\n",
      "2        I thought this was a wonderful way to spend ti...\n",
      "3        Basically theres a family where a little boy J...\n",
      "4        Petter Matteis Love in the Time of Money is a ...\n",
      "                               ...                        \n",
      "49995    I thought this movie did a down right good job...\n",
      "49996    Bad plot bad dialogue bad acting idiotic direc...\n",
      "49997    I am a Catholic taught in parochial elementary...\n",
      "49998    Im going to have to disagree with the previous...\n",
      "49999    No one expects the Star Trek movies to be high...\n",
      "Name: review, Length: 50000, dtype: object\n",
      "14559.352397918701\n"
     ]
    }
   ],
   "source": [
    "start = time.time()\n",
    "print(remove_punc(df['review']))\n",
    "time2 = time.time()-start\n",
    "print(time2*50000)"
   ]
  },
  {
   "cell_type": "code",
   "execution_count": 20,
   "id": "687f7d5f",
   "metadata": {
    "execution": {
     "iopub.execute_input": "2024-01-17T10:19:25.769273Z",
     "iopub.status.busy": "2024-01-17T10:19:25.768931Z",
     "iopub.status.idle": "2024-01-17T10:19:25.776290Z",
     "shell.execute_reply": "2024-01-17T10:19:25.774713Z"
    },
    "papermill": {
     "duration": 0.021258,
     "end_time": "2024-01-17T10:19:25.779167",
     "exception": false,
     "start_time": "2024-01-17T10:19:25.757909",
     "status": "completed"
    },
    "tags": []
   },
   "outputs": [
    {
     "data": {
      "text/plain": [
       "0.8293118878072785"
      ]
     },
     "execution_count": 20,
     "metadata": {},
     "output_type": "execute_result"
    }
   ],
   "source": [
    "time1/time2"
   ]
  },
  {
   "cell_type": "markdown",
   "id": "32c89884",
   "metadata": {
    "papermill": {
     "duration": 0.009252,
     "end_time": "2024-01-17T10:19:25.798393",
     "exception": false,
     "start_time": "2024-01-17T10:19:25.789141",
     "status": "completed"
    },
    "tags": []
   },
   "source": [
    "# ***chat word treatment ****"
   ]
  },
  {
   "cell_type": "code",
   "execution_count": 21,
   "id": "394a85da",
   "metadata": {
    "execution": {
     "iopub.execute_input": "2024-01-17T10:19:25.820069Z",
     "iopub.status.busy": "2024-01-17T10:19:25.819652Z",
     "iopub.status.idle": "2024-01-17T10:19:25.830642Z",
     "shell.execute_reply": "2024-01-17T10:19:25.829128Z"
    },
    "papermill": {
     "duration": 0.024917,
     "end_time": "2024-01-17T10:19:25.833100",
     "exception": false,
     "start_time": "2024-01-17T10:19:25.808183",
     "status": "completed"
    },
    "tags": []
   },
   "outputs": [],
   "source": [
    "#df1 = pd.read_csv('/kaggle/input/sort-from/slang.txt', sep='\\t', warn_bad_lines=True)\n",
    "\n",
    "with open(\"/kaggle/input/sort-from/slang.txt\",\"r\") as file:\n",
    "      chat_words = file.readlines()\n",
    "\n"
   ]
  },
  {
   "cell_type": "code",
   "execution_count": 22,
   "id": "7240d83b",
   "metadata": {
    "execution": {
     "iopub.execute_input": "2024-01-17T10:19:25.853681Z",
     "iopub.status.busy": "2024-01-17T10:19:25.853344Z",
     "iopub.status.idle": "2024-01-17T10:19:25.862773Z",
     "shell.execute_reply": "2024-01-17T10:19:25.861120Z"
    },
    "papermill": {
     "duration": 0.022678,
     "end_time": "2024-01-17T10:19:25.865551",
     "exception": false,
     "start_time": "2024-01-17T10:19:25.842873",
     "status": "completed"
    },
    "tags": []
   },
   "outputs": [
    {
     "data": {
      "text/plain": [
       "['AFAIK=As Far As I Know\\n',\n",
       " 'AFK=Away From Keyboard\\n',\n",
       " 'ASAP=As Soon As Possible\\n',\n",
       " 'ATK=At The Keyboard\\n',\n",
       " 'ATM=At The Moment\\n',\n",
       " 'A3=Anytime, Anywhere, Anyplace\\n',\n",
       " 'BAK=Back At Keyboard\\n',\n",
       " 'BBL=Be Back Later\\n',\n",
       " 'BBS=Be Back Soon\\n',\n",
       " 'BFN=Bye For Now\\n',\n",
       " 'B4N=Bye For Now\\n',\n",
       " 'BRB=Be Right Back\\n',\n",
       " 'BRT=Be Right There\\n',\n",
       " 'BTW=By The Way\\n',\n",
       " 'B4=Before\\n',\n",
       " 'B4N=Bye For Now\\n',\n",
       " 'CU=See You\\n',\n",
       " 'CUL8R=See You Later\\n',\n",
       " 'CYA=See You\\n',\n",
       " 'FAQ=Frequently Asked Questions\\n',\n",
       " 'FC=Fingers Crossed\\n',\n",
       " \"FWIW=For What It's Worth\\n\",\n",
       " 'FYI=For Your Information\\n',\n",
       " 'GAL=Get A Life\\n',\n",
       " 'GG=Good Game\\n',\n",
       " 'GN=Good Night\\n',\n",
       " 'GMTA=Great Minds Think Alike\\n',\n",
       " 'GR8=Great!\\n',\n",
       " 'G9=Genius\\n',\n",
       " 'IC=I See\\n',\n",
       " 'ICQ=I Seek you (also a chat program)\\n',\n",
       " 'ILU=ILU: I Love You\\n',\n",
       " 'IMHO=In My Honest/Humble Opinion\\n',\n",
       " 'IMO=In My Opinion\\n',\n",
       " 'IOW=In Other Words\\n',\n",
       " 'IRL=In Real Life\\n',\n",
       " 'KISS=Keep It Simple, Stupid\\n',\n",
       " 'LDR=Long Distance Relationship\\n',\n",
       " 'LMAO=Laugh My A.. Off\\n',\n",
       " 'LOL=Laughing Out Loud\\n',\n",
       " 'LTNS=Long Time No See\\n',\n",
       " 'L8R=Later\\n',\n",
       " 'MTE=My Thoughts Exactly\\n',\n",
       " 'M8=Mate\\n',\n",
       " 'NRN=No Reply Necessary\\n',\n",
       " 'OIC=Oh I See\\n',\n",
       " 'PITA=Pain In The A..\\n',\n",
       " 'PRT=Party\\n',\n",
       " 'PRW=Parents Are Watching\\n',\n",
       " 'QPSA?\\tQue Pasa?\\n',\n",
       " 'ROFL=Rolling On The Floor Laughing\\n',\n",
       " 'ROFLOL=Rolling On The Floor Laughing Out Loud\\n',\n",
       " 'ROTFLMAO=Rolling On The Floor Laughing My A.. Off\\n',\n",
       " 'SK8=Skate\\n',\n",
       " 'STATS=Your sex and age\\n',\n",
       " 'ASL=Age, Sex, Location\\n',\n",
       " 'THX=Thank You\\n',\n",
       " 'TTFN=Ta-Ta For Now!\\n',\n",
       " 'TTYL=Talk To You Later\\n',\n",
       " 'U=You\\n',\n",
       " 'U2=You Too\\n',\n",
       " 'U4E=Yours For Ever\\n',\n",
       " 'WB=Welcome Back\\n',\n",
       " 'WTF=What The F...\\n',\n",
       " 'WTG=Way To Go!\\n',\n",
       " 'WUF=Where Are You From?\\n',\n",
       " 'W8=Wait...\\n',\n",
       " '7K=Sick:-D Laugher\\n',\n",
       " 'TFW – That feeling when. TFW internet slang often goes in a caption to an image.\\n',\n",
       " 'MFW – My face when\\n',\n",
       " 'MRW – My reaction when\\n',\n",
       " 'IFYP – I feel your pain\\n',\n",
       " 'LOL – Laughing out loud\\n',\n",
       " 'TNTL – Trying not to laugh\\n',\n",
       " 'JK – Just kidding\\n',\n",
       " 'IDC – I don’t care\\n',\n",
       " 'ILY – I love you\\n',\n",
       " 'IMU – I miss you\\n',\n",
       " 'ADIH – Another day in hell\\n',\n",
       " 'IDC – I don’t care\\n',\n",
       " 'ZZZ – Sleeping, bored, tired\\n',\n",
       " 'WYWH – Wish you were here\\n',\n",
       " 'TIME – Tears in my eyes\\n',\n",
       " 'BAE – Before anyone else\\n',\n",
       " 'FIMH – Forever in my heart\\n',\n",
       " 'BSAAW – Big smile and a wink\\n',\n",
       " 'BWL – Bursting with laughter\\n',\n",
       " 'LMAO – Laughing my a** off\\n',\n",
       " 'BFF: Best friends forever\\n',\n",
       " 'CSL – Can’t stop laughing\\n']"
      ]
     },
     "execution_count": 22,
     "metadata": {},
     "output_type": "execute_result"
    }
   ],
   "source": [
    "chat_words"
   ]
  },
  {
   "cell_type": "code",
   "execution_count": 23,
   "id": "0dbcc2f3",
   "metadata": {
    "execution": {
     "iopub.execute_input": "2024-01-17T10:19:25.889350Z",
     "iopub.status.busy": "2024-01-17T10:19:25.888951Z",
     "iopub.status.idle": "2024-01-17T10:19:25.897737Z",
     "shell.execute_reply": "2024-01-17T10:19:25.896030Z"
    },
    "papermill": {
     "duration": 0.023741,
     "end_time": "2024-01-17T10:19:25.900588",
     "exception": false,
     "start_time": "2024-01-17T10:19:25.876847",
     "status": "completed"
    },
    "tags": []
   },
   "outputs": [
    {
     "name": "stdout",
     "output_type": "stream",
     "text": [
      "['AFAIK=As Far As I Know\\n', 'AFK=Away From Keyboard\\n', 'ASAP=As Soon As Possible\\n', 'ATK=At The Keyboard\\n', 'ATM=At The Moment\\n', 'A3=Anytime, Anywhere, Anyplace\\n', 'BAK=Back At Keyboard\\n', 'BBL=Be Back Later\\n', 'BBS=Be Back Soon\\n', 'BFN=Bye For Now\\n', 'B4N=Bye For Now\\n', 'BRB=Be Right Back\\n', 'BRT=Be Right There\\n', 'BTW=By The Way\\n', 'B4=Before\\n', 'B4N=Bye For Now\\n', 'CU=See You\\n', 'CUL8R=See You Later\\n', 'CYA=See You\\n', 'FAQ=Frequently Asked Questions\\n', 'FC=Fingers Crossed\\n', \"FWIW=For What It's Worth\\n\", 'FYI=For Your Information\\n', 'GAL=Get A Life\\n', 'GG=Good Game\\n', 'GN=Good Night\\n', 'GMTA=Great Minds Think Alike\\n', 'GR8=Great!\\n', 'G9=Genius\\n', 'IC=I See\\n', 'ICQ=I Seek you (also a chat program)\\n', 'ILU=ILU: I Love You\\n', 'IMHO=In My Honest/Humble Opinion\\n', 'IMO=In My Opinion\\n', 'IOW=In Other Words\\n', 'IRL=In Real Life\\n', 'KISS=Keep It Simple, Stupid\\n', 'LDR=Long Distance Relationship\\n', 'LMAO=Laugh My A.. Off\\n', 'LOL=Laughing Out Loud\\n', 'LTNS=Long Time No See\\n', 'L8R=Later\\n', 'MTE=My Thoughts Exactly\\n', 'M8=Mate\\n', 'NRN=No Reply Necessary\\n', 'OIC=Oh I See\\n', 'PITA=Pain In The A..\\n', 'PRT=Party\\n', 'PRW=Parents Are Watching\\n', 'QPSA?\\tQue Pasa?\\n', 'ROFL=Rolling On The Floor Laughing\\n', 'ROFLOL=Rolling On The Floor Laughing Out Loud\\n', 'ROTFLMAO=Rolling On The Floor Laughing My A.. Off\\n', 'SK8=Skate\\n', 'STATS=Your sex and age\\n', 'ASL=Age, Sex, Location\\n', 'THX=Thank You\\n', 'TTFN=Ta-Ta For Now!\\n', 'TTYL=Talk To You Later\\n', 'U=You\\n', 'U2=You Too\\n', 'U4E=Yours For Ever\\n', 'WB=Welcome Back\\n', 'WTF=What The F...\\n', 'WTG=Way To Go!\\n', 'WUF=Where Are You From?\\n', 'W8=Wait...\\n', '7K=Sick:-D Laugher\\n', 'TFW – That feeling when. TFW internet slang often goes in a caption to an image.\\n', 'MFW – My face when\\n', 'MRW – My reaction when\\n', 'IFYP – I feel your pain\\n', 'LOL – Laughing out loud\\n', 'TNTL – Trying not to laugh\\n', 'JK – Just kidding\\n', 'IDC – I don’t care\\n', 'ILY – I love you\\n', 'IMU – I miss you\\n', 'ADIH – Another day in hell\\n', 'IDC – I don’t care\\n', 'ZZZ – Sleeping, bored, tired\\n', 'WYWH – Wish you were here\\n', 'TIME – Tears in my eyes\\n', 'BAE – Before anyone else\\n', 'FIMH – Forever in my heart\\n', 'BSAAW – Big smile and a wink\\n', 'BWL – Bursting with laughter\\n', 'LMAO – Laughing my a** off\\n', 'BFF: Best friends forever\\n', 'CSL – Can’t stop laughing\\n']\n"
     ]
    }
   ],
   "source": [
    "file_path = \"/kaggle/input/sort-from/slang.txt\"\n",
    "with open(file_path, \"r\") as file:\n",
    "    lines = file.readlines()\n",
    "\n",
    "# Process the lines to create the chat_words dictionary\n",
    "chat_wo = {}\n",
    "for line in lines:\n",
    "    parts = line.strip().split()\n",
    "    if len(parts) >= 2:\n",
    "        # Assuming the first part is the abbreviation and the rest is the expanded form\n",
    "        abbreviation = parts[0].upper()\n",
    "        expanded_form = \" \".join(parts[1:])\n",
    "        chat_wo[abbreviation] = expanded_form\n",
    "\n",
    "# Now chat_words is a dictionary\n",
    "print(chat_words)"
   ]
  },
  {
   "cell_type": "code",
   "execution_count": 24,
   "id": "75c849e1",
   "metadata": {
    "execution": {
     "iopub.execute_input": "2024-01-17T10:19:25.924150Z",
     "iopub.status.busy": "2024-01-17T10:19:25.923771Z",
     "iopub.status.idle": "2024-01-17T10:19:25.933550Z",
     "shell.execute_reply": "2024-01-17T10:19:25.931732Z"
    },
    "papermill": {
     "duration": 0.02455,
     "end_time": "2024-01-17T10:19:25.936436",
     "exception": false,
     "start_time": "2024-01-17T10:19:25.911886",
     "status": "completed"
    },
    "tags": []
   },
   "outputs": [
    {
     "data": {
      "text/plain": [
       "{'AFAIK=AS': 'Far As I Know',\n",
       " 'AFK=AWAY': 'From Keyboard',\n",
       " 'ASAP=AS': 'Soon As Possible',\n",
       " 'ATK=AT': 'The Keyboard',\n",
       " 'ATM=AT': 'The Moment',\n",
       " 'A3=ANYTIME,': 'Anywhere, Anyplace',\n",
       " 'BAK=BACK': 'At Keyboard',\n",
       " 'BBL=BE': 'Back Later',\n",
       " 'BBS=BE': 'Back Soon',\n",
       " 'BFN=BYE': 'For Now',\n",
       " 'B4N=BYE': 'For Now',\n",
       " 'BRB=BE': 'Right Back',\n",
       " 'BRT=BE': 'Right There',\n",
       " 'BTW=BY': 'The Way',\n",
       " 'CU=SEE': 'You',\n",
       " 'CUL8R=SEE': 'You Later',\n",
       " 'CYA=SEE': 'You',\n",
       " 'FAQ=FREQUENTLY': 'Asked Questions',\n",
       " 'FC=FINGERS': 'Crossed',\n",
       " 'FWIW=FOR': \"What It's Worth\",\n",
       " 'FYI=FOR': 'Your Information',\n",
       " 'GAL=GET': 'A Life',\n",
       " 'GG=GOOD': 'Game',\n",
       " 'GN=GOOD': 'Night',\n",
       " 'GMTA=GREAT': 'Minds Think Alike',\n",
       " 'IC=I': 'See',\n",
       " 'ICQ=I': 'Seek you (also a chat program)',\n",
       " 'ILU=ILU:': 'I Love You',\n",
       " 'IMHO=IN': 'My Honest/Humble Opinion',\n",
       " 'IMO=IN': 'My Opinion',\n",
       " 'IOW=IN': 'Other Words',\n",
       " 'IRL=IN': 'Real Life',\n",
       " 'KISS=KEEP': 'It Simple, Stupid',\n",
       " 'LDR=LONG': 'Distance Relationship',\n",
       " 'LMAO=LAUGH': 'My A.. Off',\n",
       " 'LOL=LAUGHING': 'Out Loud',\n",
       " 'LTNS=LONG': 'Time No See',\n",
       " 'MTE=MY': 'Thoughts Exactly',\n",
       " 'NRN=NO': 'Reply Necessary',\n",
       " 'OIC=OH': 'I See',\n",
       " 'PITA=PAIN': 'In The A..',\n",
       " 'PRW=PARENTS': 'Are Watching',\n",
       " 'QPSA?': 'Que Pasa?',\n",
       " 'ROFL=ROLLING': 'On The Floor Laughing',\n",
       " 'ROFLOL=ROLLING': 'On The Floor Laughing Out Loud',\n",
       " 'ROTFLMAO=ROLLING': 'On The Floor Laughing My A.. Off',\n",
       " 'STATS=YOUR': 'sex and age',\n",
       " 'ASL=AGE,': 'Sex, Location',\n",
       " 'THX=THANK': 'You',\n",
       " 'TTFN=TA-TA': 'For Now!',\n",
       " 'TTYL=TALK': 'To You Later',\n",
       " 'U2=YOU': 'Too',\n",
       " 'U4E=YOURS': 'For Ever',\n",
       " 'WB=WELCOME': 'Back',\n",
       " 'WTF=WHAT': 'The F...',\n",
       " 'WTG=WAY': 'To Go!',\n",
       " 'WUF=WHERE': 'Are You From?',\n",
       " '7K=SICK:-D': 'Laugher',\n",
       " 'TFW': '– That feeling when. TFW internet slang often goes in a caption to an image.',\n",
       " 'MFW': '– My face when',\n",
       " 'MRW': '– My reaction when',\n",
       " 'IFYP': '– I feel your pain',\n",
       " 'LOL': '– Laughing out loud',\n",
       " 'TNTL': '– Trying not to laugh',\n",
       " 'JK': '– Just kidding',\n",
       " 'IDC': '– I don’t care',\n",
       " 'ILY': '– I love you',\n",
       " 'IMU': '– I miss you',\n",
       " 'ADIH': '– Another day in hell',\n",
       " 'ZZZ': '– Sleeping, bored, tired',\n",
       " 'WYWH': '– Wish you were here',\n",
       " 'TIME': '– Tears in my eyes',\n",
       " 'BAE': '– Before anyone else',\n",
       " 'FIMH': '– Forever in my heart',\n",
       " 'BSAAW': '– Big smile and a wink',\n",
       " 'BWL': '– Bursting with laughter',\n",
       " 'LMAO': '– Laughing my a** off',\n",
       " 'BFF:': 'Best friends forever',\n",
       " 'CSL': '– Can’t stop laughing'}"
      ]
     },
     "execution_count": 24,
     "metadata": {},
     "output_type": "execute_result"
    }
   ],
   "source": [
    "chat_wo"
   ]
  },
  {
   "cell_type": "code",
   "execution_count": 25,
   "id": "c21c127b",
   "metadata": {
    "execution": {
     "iopub.execute_input": "2024-01-17T10:19:25.958459Z",
     "iopub.status.busy": "2024-01-17T10:19:25.958096Z",
     "iopub.status.idle": "2024-01-17T10:19:25.964740Z",
     "shell.execute_reply": "2024-01-17T10:19:25.963142Z"
    },
    "papermill": {
     "duration": 0.019949,
     "end_time": "2024-01-17T10:19:25.967025",
     "exception": false,
     "start_time": "2024-01-17T10:19:25.947076",
     "status": "completed"
    },
    "tags": []
   },
   "outputs": [],
   "source": [
    "def chat_conversation(text):\n",
    "    new_text = []\n",
    "    for w in text.split():\n",
    "        if w.upper() in chat_words:\n",
    "            new_text.append(chat_words[w.upper()])\n",
    "        else:\n",
    "            new_text.append(w)\n",
    "    return \" \".join(new_text)"
   ]
  },
  {
   "cell_type": "code",
   "execution_count": 26,
   "id": "0a3ba234",
   "metadata": {
    "execution": {
     "iopub.execute_input": "2024-01-17T10:19:25.990033Z",
     "iopub.status.busy": "2024-01-17T10:19:25.989166Z",
     "iopub.status.idle": "2024-01-17T10:19:25.993658Z",
     "shell.execute_reply": "2024-01-17T10:19:25.993012Z"
    },
    "papermill": {
     "duration": 0.018549,
     "end_time": "2024-01-17T10:19:25.996113",
     "exception": false,
     "start_time": "2024-01-17T10:19:25.977564",
     "status": "completed"
    },
    "tags": []
   },
   "outputs": [
    {
     "name": "stdout",
     "output_type": "stream",
     "text": [
      "ROFL is a good boy\n"
     ]
    }
   ],
   "source": [
    "transformed_text = chat_conversation(\"ROFL is a good boy\")\n",
    "print(transformed_text)"
   ]
  },
  {
   "cell_type": "markdown",
   "id": "cab4116f",
   "metadata": {
    "papermill": {
     "duration": 0.009473,
     "end_time": "2024-01-17T10:19:26.015485",
     "exception": false,
     "start_time": "2024-01-17T10:19:26.006012",
     "status": "completed"
    },
    "tags": []
   },
   "source": [
    "# ***Spelling Correction***"
   ]
  },
  {
   "cell_type": "code",
   "execution_count": 27,
   "id": "97200f91",
   "metadata": {
    "execution": {
     "iopub.execute_input": "2024-01-17T10:19:26.037036Z",
     "iopub.status.busy": "2024-01-17T10:19:26.036600Z",
     "iopub.status.idle": "2024-01-17T10:19:39.321514Z",
     "shell.execute_reply": "2024-01-17T10:19:39.319508Z"
    },
    "papermill": {
     "duration": 13.299214,
     "end_time": "2024-01-17T10:19:39.324588",
     "exception": false,
     "start_time": "2024-01-17T10:19:26.025374",
     "status": "completed"
    },
    "tags": []
   },
   "outputs": [
    {
     "name": "stdout",
     "output_type": "stream",
     "text": [
      "Requirement already satisfied: textblob in /opt/conda/lib/python3.10/site-packages (0.17.1)\r\n",
      "Requirement already satisfied: nltk>=3.1 in /opt/conda/lib/python3.10/site-packages (from textblob) (3.2.4)\r\n",
      "Requirement already satisfied: six in /opt/conda/lib/python3.10/site-packages (from nltk>=3.1->textblob) (1.16.0)\r\n"
     ]
    }
   ],
   "source": [
    "!pip install textblob"
   ]
  },
  {
   "cell_type": "code",
   "execution_count": 28,
   "id": "00b84851",
   "metadata": {
    "execution": {
     "iopub.execute_input": "2024-01-17T10:19:39.348137Z",
     "iopub.status.busy": "2024-01-17T10:19:39.347656Z",
     "iopub.status.idle": "2024-01-17T10:19:42.202865Z",
     "shell.execute_reply": "2024-01-17T10:19:42.199374Z"
    },
    "papermill": {
     "duration": 2.870704,
     "end_time": "2024-01-17T10:19:42.205991",
     "exception": false,
     "start_time": "2024-01-17T10:19:39.335287",
     "status": "completed"
    },
    "tags": []
   },
   "outputs": [],
   "source": [
    "from textblob import TextBlob\n"
   ]
  },
  {
   "cell_type": "code",
   "execution_count": 29,
   "id": "68d9ae6a",
   "metadata": {
    "execution": {
     "iopub.execute_input": "2024-01-17T10:19:42.231580Z",
     "iopub.status.busy": "2024-01-17T10:19:42.231171Z",
     "iopub.status.idle": "2024-01-17T10:19:42.236659Z",
     "shell.execute_reply": "2024-01-17T10:19:42.234907Z"
    },
    "papermill": {
     "duration": 0.022708,
     "end_time": "2024-01-17T10:19:42.240108",
     "exception": false,
     "start_time": "2024-01-17T10:19:42.217400",
     "status": "completed"
    },
    "tags": []
   },
   "outputs": [],
   "source": [
    "def correct_spelling(text):\n",
    "    blob = TextBlob(str(text))\n",
    "    corrected_text = blob.correct()\n",
    "    return str(corrected_text)\n"
   ]
  },
  {
   "cell_type": "code",
   "execution_count": 30,
   "id": "7f090571",
   "metadata": {
    "execution": {
     "iopub.execute_input": "2024-01-17T10:19:42.265315Z",
     "iopub.status.busy": "2024-01-17T10:19:42.264739Z",
     "iopub.status.idle": "2024-01-17T10:19:42.328026Z",
     "shell.execute_reply": "2024-01-17T10:19:42.325511Z"
    },
    "papermill": {
     "duration": 0.079267,
     "end_time": "2024-01-17T10:19:42.331106",
     "exception": false,
     "start_time": "2024-01-17T10:19:42.251839",
     "status": "completed"
    },
    "tags": []
   },
   "outputs": [
    {
     "name": "stdout",
     "output_type": "stream",
     "text": [
      "of['review']\n"
     ]
    }
   ],
   "source": [
    "incorrect_text = \"df['review']\"\n",
    "tb = TextBlob(incorrect_text)\n",
    "corrected_text = tb.correct().string\n",
    "print(corrected_text)\n"
   ]
  },
  {
   "cell_type": "code",
   "execution_count": 31,
   "id": "fc0cf55e",
   "metadata": {
    "execution": {
     "iopub.execute_input": "2024-01-17T10:19:42.354898Z",
     "iopub.status.busy": "2024-01-17T10:19:42.354409Z",
     "iopub.status.idle": "2024-01-17T10:19:42.365846Z",
     "shell.execute_reply": "2024-01-17T10:19:42.363701Z"
    },
    "papermill": {
     "duration": 0.027085,
     "end_time": "2024-01-17T10:19:42.369058",
     "exception": false,
     "start_time": "2024-01-17T10:19:42.341973",
     "status": "completed"
    },
    "tags": []
   },
   "outputs": [
    {
     "data": {
      "text/plain": [
       "'i am play football'"
      ]
     },
     "execution_count": 31,
     "metadata": {},
     "output_type": "execute_result"
    }
   ],
   "source": [
    "incorrect_text = 'i am play fotball'\n",
    "tb= TextBlob(incorrect_text)\n",
    "tb. correct().string\n"
   ]
  },
  {
   "cell_type": "code",
   "execution_count": 32,
   "id": "c7f39266",
   "metadata": {
    "execution": {
     "iopub.execute_input": "2024-01-17T10:19:42.396151Z",
     "iopub.status.busy": "2024-01-17T10:19:42.395706Z",
     "iopub.status.idle": "2024-01-17T10:19:55.357837Z",
     "shell.execute_reply": "2024-01-17T10:19:55.356941Z"
    },
    "papermill": {
     "duration": 12.978866,
     "end_time": "2024-01-17T10:19:55.360253",
     "exception": false,
     "start_time": "2024-01-17T10:19:42.381387",
     "status": "completed"
    },
    "tags": []
   },
   "outputs": [
    {
     "name": "stdout",
     "output_type": "stream",
     "text": [
      "Collecting spello\r\n",
      "  Downloading spello-1.3.0-py3-none-any.whl (25 kB)\r\n",
      "Collecting nltk<4,>=3.4.5 (from spello)\r\n",
      "  Downloading nltk-3.8.1-py3-none-any.whl (1.5 MB)\r\n",
      "\u001b[2K     \u001b[90m━━━━━━━━━━━━━━━━━━━━━━━━━━━━━━━━━━━━━━━━\u001b[0m \u001b[32m1.5/1.5 MB\u001b[0m \u001b[31m41.1 MB/s\u001b[0m eta \u001b[36m0:00:00\u001b[0m\r\n",
      "\u001b[?25hRequirement already satisfied: click in /opt/conda/lib/python3.10/site-packages (from nltk<4,>=3.4.5->spello) (8.1.7)\r\n",
      "Requirement already satisfied: joblib in /opt/conda/lib/python3.10/site-packages (from nltk<4,>=3.4.5->spello) (1.3.2)\r\n",
      "Requirement already satisfied: regex>=2021.8.3 in /opt/conda/lib/python3.10/site-packages (from nltk<4,>=3.4.5->spello) (2023.8.8)\r\n",
      "Requirement already satisfied: tqdm in /opt/conda/lib/python3.10/site-packages (from nltk<4,>=3.4.5->spello) (4.66.1)\r\n",
      "Installing collected packages: nltk, spello\r\n",
      "  Attempting uninstall: nltk\r\n",
      "    Found existing installation: nltk 3.2.4\r\n",
      "    Uninstalling nltk-3.2.4:\r\n",
      "      Successfully uninstalled nltk-3.2.4\r\n",
      "\u001b[31mERROR: pip's dependency resolver does not currently take into account all the packages that are installed. This behaviour is the source of the following dependency conflicts.\r\n",
      "preprocessing 0.1.13 requires nltk==3.2.4, but you have nltk 3.8.1 which is incompatible.\u001b[0m\u001b[31m\r\n",
      "\u001b[0mSuccessfully installed nltk-3.8.1 spello-1.3.0\r\n"
     ]
    }
   ],
   "source": [
    "!pip install spello"
   ]
  },
  {
   "cell_type": "code",
   "execution_count": 33,
   "id": "91282ffe",
   "metadata": {
    "execution": {
     "iopub.execute_input": "2024-01-17T10:19:55.386824Z",
     "iopub.status.busy": "2024-01-17T10:19:55.386358Z",
     "iopub.status.idle": "2024-01-17T10:19:55.398709Z",
     "shell.execute_reply": "2024-01-17T10:19:55.397912Z"
    },
    "papermill": {
     "duration": 0.029067,
     "end_time": "2024-01-17T10:19:55.401340",
     "exception": false,
     "start_time": "2024-01-17T10:19:55.372273",
     "status": "completed"
    },
    "tags": []
   },
   "outputs": [],
   "source": [
    "from spello.model import SpellCorrectionModel "
   ]
  },
  {
   "cell_type": "code",
   "execution_count": 34,
   "id": "f7e6a150",
   "metadata": {
    "execution": {
     "iopub.execute_input": "2024-01-17T10:19:55.427479Z",
     "iopub.status.busy": "2024-01-17T10:19:55.425499Z",
     "iopub.status.idle": "2024-01-17T10:19:55.432097Z",
     "shell.execute_reply": "2024-01-17T10:19:55.430858Z"
    },
    "papermill": {
     "duration": 0.021262,
     "end_time": "2024-01-17T10:19:55.434557",
     "exception": false,
     "start_time": "2024-01-17T10:19:55.413295",
     "status": "completed"
    },
    "tags": []
   },
   "outputs": [],
   "source": [
    "sp =  SpellCorrectionModel(language =\"en\")"
   ]
  },
  {
   "cell_type": "code",
   "execution_count": null,
   "id": "bf3db89a",
   "metadata": {
    "papermill": {
     "duration": 0.010716,
     "end_time": "2024-01-17T10:19:55.456264",
     "exception": false,
     "start_time": "2024-01-17T10:19:55.445548",
     "status": "completed"
    },
    "tags": []
   },
   "outputs": [],
   "source": []
  }
 ],
 "metadata": {
  "kaggle": {
   "accelerator": "none",
   "dataSources": [
    {
     "datasetId": 134715,
     "sourceId": 320111,
     "sourceType": "datasetVersion"
    },
    {
     "datasetId": 4239952,
     "sourceId": 7307463,
     "sourceType": "datasetVersion"
    }
   ],
   "dockerImageVersionId": 30626,
   "isGpuEnabled": false,
   "isInternetEnabled": true,
   "language": "python",
   "sourceType": "notebook"
  },
  "kernelspec": {
   "display_name": "Python 3",
   "language": "python",
   "name": "python3"
  },
  "language_info": {
   "codemirror_mode": {
    "name": "ipython",
    "version": 3
   },
   "file_extension": ".py",
   "mimetype": "text/x-python",
   "name": "python",
   "nbconvert_exporter": "python",
   "pygments_lexer": "ipython3",
   "version": "3.10.12"
  },
  "papermill": {
   "default_parameters": {},
   "duration": 44.692069,
   "end_time": "2024-01-17T10:19:56.290834",
   "environment_variables": {},
   "exception": null,
   "input_path": "__notebook__.ipynb",
   "output_path": "__notebook__.ipynb",
   "parameters": {},
   "start_time": "2024-01-17T10:19:11.598765",
   "version": "2.4.0"
  }
 },
 "nbformat": 4,
 "nbformat_minor": 5
}
